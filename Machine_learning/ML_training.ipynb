{
  "nbformat": 4,
  "nbformat_minor": 0,
  "metadata": {
    "colab": {
      "provenance": []
    },
    "kernelspec": {
      "name": "python3",
      "display_name": "Python 3"
    },
    "language_info": {
      "name": "python"
    }
  },
  "cells": [
    {
      "cell_type": "code",
      "execution_count": 3,
      "metadata": {
        "id": "Z-FQ63Ck8A7K"
      },
      "outputs": [],
      "source": [
        "import pandas as pd\n",
        "import numpy as np\n",
        "from sklearn.ensemble import RandomForestClassifier\n",
        "from sklearn.model_selection import train_test_split\n",
        "from sklearn.metrics import classification_report\n",
        "from sklearn.metrics import accuracy_score"
      ]
    },
    {
      "cell_type": "code",
      "source": [
        "df = pd.read_excel('data_set.xlsx').values\n",
        "chunks = np.array_split(df, 70)"
      ],
      "metadata": {
        "id": "jM8dorNl8ILj"
      },
      "execution_count": 4,
      "outputs": []
    },
    {
      "cell_type": "code",
      "source": [
        "new_chunks = []\n",
        "\n",
        "for i in range(14):\n",
        "    indices = [i + (j * 14) for j in range(5)]\n",
        "    stacked = np.vstack([chunks[idx] for idx in indices])\n",
        "    new_chunks.append(stacked)\n",
        "\n",
        "def flatten_chunks(chunks):\n",
        "    X, y = [], []\n",
        "    for chunk in chunks:\n",
        "        X.append(chunk[:, :4])   # features\n",
        "        y.append(chunk[:, 4])    # labels\n",
        "    return np.vstack(X), np.hstack(y)\n"
      ],
      "metadata": {
        "id": "_Xxt1Tz78MgW"
      },
      "execution_count": 5,
      "outputs": []
    },
    {
      "cell_type": "code",
      "source": [
        "train_chunks, test_chunks = train_test_split(new_chunks, test_size=0.1, random_state=0)\n",
        "\n",
        "X_train, y_train = flatten_chunks(train_chunks)\n",
        "X_test, y_test = flatten_chunks(test_chunks)"
      ],
      "metadata": {
        "id": "vVQ0jhoH8-2y"
      },
      "execution_count": 11,
      "outputs": []
    },
    {
      "cell_type": "code",
      "source": [
        "rf = RandomForestClassifier(\n",
        "    n_estimators=80,\n",
        "    min_samples_split=2,\n",
        "    min_samples_leaf=2,\n",
        "    max_leaf_nodes=None\n",
        ")\n",
        "\n",
        "rf.fit(X_train, y_train)\n",
        "\n",
        "# Evaluate\n",
        "\n",
        "y_pred = rf.predict(X_test)\n",
        "acc = accuracy_score(y_test, y_pred)\n",
        "print(f\"Test Accuracy: {acc:.4f}\")\n"
      ],
      "metadata": {
        "colab": {
          "base_uri": "https://localhost:8080/"
        },
        "id": "PYAupp0L9xD6",
        "outputId": "e766319b-c8bf-4d52-9477-2d075012d4e2"
      },
      "execution_count": 12,
      "outputs": [
        {
          "output_type": "stream",
          "name": "stdout",
          "text": [
            "Test Accuracy: 0.9556\n"
          ]
        }
      ]
    },
    {
      "cell_type": "code",
      "source": [],
      "metadata": {
        "id": "19UmISJ5Dmpt"
      },
      "execution_count": null,
      "outputs": []
    }
  ]
}